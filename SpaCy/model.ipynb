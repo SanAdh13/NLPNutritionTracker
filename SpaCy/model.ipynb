{
 "cells": [
  {
   "cell_type": "markdown",
   "metadata": {},
   "source": [
    "This ipynb is just for testing/learning purposes"
   ]
  },
  {
   "cell_type": "code",
   "execution_count": null,
   "metadata": {},
   "outputs": [],
   "source": [
    "import pandas as pd \n",
    "import random \n",
    "import spacy\n",
    "from spacy import displacy \n",
    "spacy.prefer_gpu()\n",
    "nlp = spacy.load(\"en_core_web_sm\")"
   ]
  },
  {
   "cell_type": "code",
   "execution_count": null,
   "metadata": {},
   "outputs": [],
   "source": [
    "nlp.pipe_names\n",
    "ner = nlp.get_pipe('ner')\n",
    "\n",
    "pipe_ignores = ['']"
   ]
  },
  {
   "cell_type": "code",
   "execution_count": null,
   "metadata": {},
   "outputs": [],
   "source": [
    "# yelp_df = pd.read_json(\"C:\\\\Users\\\\samad\\\\Documents\\\\DISSERTATION\\\\SpaCy\\\\datasets\\\\yelp_academic_dataset_review.json\",lines=True, nrows = 14000)\n",
    "\n",
    "\n",
    "# # print(yelp_df.shape)\n",
    "\n",
    "\n",
    "# #text cols of the reviews with atleast 4* reviews  \n",
    "# stars = yelp_df.loc[yelp_df['stars'] >= 4].text\n",
    "\n",
    "# print(stars.shape)\n",
    "# # text =yelp_df.text \n",
    "# # text.shape\n",
    "# print(stars.head())\n"
   ]
  },
  {
   "cell_type": "code",
   "execution_count": null,
   "metadata": {},
   "outputs": [],
   "source": [
    "df = pd.read_csv(\"C:\\\\Users\\\\samad\\\\Documents\\\\DISSERTATION\\\\SpaCy\\\\datasets\\\\pos_reviews.csv\")\n",
    "\n",
    "df = df.text[10:15]\n",
    "print(df.shape)\n",
    "print(df.head())\n"
   ]
  },
  {
   "cell_type": "code",
   "execution_count": null,
   "metadata": {},
   "outputs": [],
   "source": [
    "for i in df:\n",
    "    doc = nlp(i)\n",
    "    displacy.render(doc,style='ent',jupyter=True)\n",
    "\n",
    "# doc = nlp(df[22])"
   ]
  },
  {
   "cell_type": "code",
   "execution_count": null,
   "metadata": {},
   "outputs": [],
   "source": [
    "# displacy.render(doc,style='ent',jupyter=True)\n"
   ]
  }
 ],
 "metadata": {
  "kernelspec": {
   "display_name": "Python 3.9.13 ('Dissertation')",
   "language": "python",
   "name": "python3"
  },
  "language_info": {
   "codemirror_mode": {
    "name": "ipython",
    "version": 3
   },
   "file_extension": ".py",
   "mimetype": "text/x-python",
   "name": "python",
   "nbconvert_exporter": "python",
   "pygments_lexer": "ipython3",
   "version": "3.9.12"
  },
  "orig_nbformat": 4,
  "vscode": {
   "interpreter": {
    "hash": "cfaa2cf71bbb0cd3a6e7c0decce0446701dc5c1f7cb333de3955e94284571c19"
   }
  }
 },
 "nbformat": 4,
 "nbformat_minor": 2
}
