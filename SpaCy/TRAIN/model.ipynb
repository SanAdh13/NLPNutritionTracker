{
 "cells": [
  {
   "cell_type": "markdown",
   "metadata": {},
   "source": [
    "This notebook will create the config file and the ner model for the food\n",
    "we will add this model pipeline with existing spacy pipeline in order to make a final model which should theoretically be able to identify\n",
    "the food items and the amounts correctly"
   ]
  },
  {
   "cell_type": "markdown",
   "metadata": {},
   "source": [
    "python -m spacy init fill-config base_config.cfg config.cfg"
   ]
  },
  {
   "cell_type": "markdown",
   "metadata": {},
   "source": [
    "python -m spacy train SpaCy/TRAIN/configGPU.cfg --output SpaCy/model/  --paths.train datasets/spacyFiles/TrainData.spacy --paths.dev datasets/spacyFIles/TrainData.spacy --gpu-id 0\n"
   ]
  },
  {
   "cell_type": "markdown",
   "metadata": {},
   "source": [
    "python -m spacy evaluate [path to model] [test.spacy path]"
   ]
  },
  {
   "cell_type": "code",
   "execution_count": 3,
   "metadata": {},
   "outputs": [
    {
     "data": {
      "text/plain": [
       "True"
      ]
     },
     "execution_count": 3,
     "metadata": {},
     "output_type": "execute_result"
    }
   ],
   "source": [
    "import spacy\n",
    "from spacy import displacy\n",
    "spacy.prefer_gpu()\n",
    "# nlp = spacy.load(\"./SpaCy/model/model-best/\")"
   ]
  },
  {
   "cell_type": "code",
   "execution_count": 4,
   "metadata": {},
   "outputs": [
    {
     "data": {
      "text/plain": [
       "<spacy.pipeline.ner.EntityRecognizer at 0x19020d12820>"
      ]
     },
     "execution_count": 4,
     "metadata": {},
     "output_type": "execute_result"
    }
   ],
   "source": [
    "\n",
    "nlp = spacy.load(\"en_core_web_trf\",disable=[\"tagger\",\"parser\", \"attribute_ruler\", \"lemmatizer\"])\n",
    "food_nlp = spacy.load(\"C:\\\\Users\\\\samad\\\\Documents\\\\DISSERTATION\\\\SpaCy\\\\model\\\\model-best\")\n",
    "food_nlp.replace_listeners(\"transformer\", \"ner\", [\"model.tok2vec\"])\n",
    "\n",
    "nlp.add_pipe(\n",
    "    \"ner\",\n",
    "    name=\"ner_food\",\n",
    "    source=food_nlp,\n",
    "    after=\"ner\",\n",
    ")\n",
    "\n",
    "# nlp.to_disk(\"../model/combined/\")"
   ]
  },
  {
   "cell_type": "code",
   "execution_count": 5,
   "metadata": {},
   "outputs": [],
   "source": [
    "# fileloc = \"../../datasets/test.txt\"\n",
    "# with open(fileloc,'r') as file:\n",
    "#    TEST = file.read().split('\\n')[:-1]\n",
    "\n",
    "#    TEST2 = [x.lower() for x in TEST]"
   ]
  },
  {
   "cell_type": "code",
   "execution_count": 6,
   "metadata": {},
   "outputs": [],
   "source": [
    "# for t in TEST[:10]:\n",
    "#     doc = nlp(t)\n",
    "#     spacy.displacy.render(doc.ents,style=\"ent\",jupyter=True)"
   ]
  },
  {
   "cell_type": "code",
   "execution_count": 7,
   "metadata": {},
   "outputs": [],
   "source": [
    "\n",
    "def createList(doc):\n",
    "    i = 0 \n",
    "    lenEnts = len(doc.ents)\n",
    "    while i < lenEnts:\n",
    "        currEnt = doc.ents[i] # the current ent\n",
    "        try: \n",
    "            nextEnt = doc.ents[i+1] # the next ent in order to check\n",
    "        except: \n",
    "            pass\n",
    "\n",
    "        print(currEnt.label_, nextEnt.label_)\n",
    "\n",
    "        if(currEnt.label_ == \"CARDINAL\") and nextEnt.label_ == \"FOOD\":\n",
    "            i+=1\n",
    "            arr.append([nextEnt.text,currEnt._.numerize()])\n",
    "        else:\n",
    "            if (currEnt.label_ == \"FOOD\"): \n",
    "                arr.append([currEnt.text,1])\n",
    "        i+=1"
   ]
  },
  {
   "cell_type": "markdown",
   "metadata": {},
   "source": [
    "\n",
    "    cant change the token in a span so we just gonna convert it and save to array\n",
    "    so a cardinal if its like \"THREE\" use numerizer() to get numerical val and use that instead\n",
    "\n",
    "    so that the ents list is only cardinal and FOOD\n",
    "    and say \n",
    "    if the item that we picked is a cardinal\n",
    "        if the next ents is food then we use numerize on the cardinal\n",
    "         [FOOD, cardinal._.numerize()]\n",
    "    if the item picked is FOOD and next is also FOOD\n",
    "        [FOOD,1]\n",
    "\n",
    "    #if we are in a number and the next is food\n",
    "    #logically thinking the number is quantity for the food \n",
    "    # while this is usual case, ofc this code can be rendered useless easily\n",
    "    # because someone can say \"i ate chicken wings, 20 of them\"\n",
    "    # and now this code will not work 😕\n",
    "    \n",
    "    #maybe skipping the next ent if the current is cardinal\n",
    "    # eg cardinal food food food cardinal food\n",
    "    # i = 0 we are at cardinal and next is food so we save [food,numerizedcardinal], then i+= 1 and also the i+=1 at the end of the while funct\n",
    "    # i = 2 its food  so just i+=1\n",
    "    # i = 3 its food again so just i+=1\n",
    "    # i = 4 its cardinal and next food "
   ]
  },
  {
   "cell_type": "code",
   "execution_count": 18,
   "metadata": {},
   "outputs": [
    {
     "data": {
      "text/html": [
       "<span class=\"tex2jax_ignore\"><div class=\"entities\" style=\"line-height: 2.5; direction: ltr\">i ate an \n",
       "<mark class=\"entity\" style=\"background: #ddd; padding: 0.45em 0.6em; margin: 0 0.25em; line-height: 1; border-radius: 0.35em;\">\n",
       "    apple\n",
       "    <span style=\"font-size: 0.8em; font-weight: bold; line-height: 1; border-radius: 0.35em; vertical-align: middle; margin-left: 0.5rem\">FOOD</span>\n",
       "</mark>\n",
       ",\n",
       "<mark class=\"entity\" style=\"background: #ddd; padding: 0.45em 0.6em; margin: 0 0.25em; line-height: 1; border-radius: 0.35em;\">\n",
       "    orange\n",
       "    <span style=\"font-size: 0.8em; font-weight: bold; line-height: 1; border-radius: 0.35em; vertical-align: middle; margin-left: 0.5rem\">FOOD</span>\n",
       "</mark>\n",
       ", \n",
       "<mark class=\"entity\" style=\"background: #e4e7d2; padding: 0.45em 0.6em; margin: 0 0.25em; line-height: 1; border-radius: 0.35em;\">\n",
       "    twenty\n",
       "    <span style=\"font-size: 0.8em; font-weight: bold; line-height: 1; border-radius: 0.35em; vertical-align: middle; margin-left: 0.5rem\">CARDINAL</span>\n",
       "</mark>\n",
       " \n",
       "<mark class=\"entity\" style=\"background: #ddd; padding: 0.45em 0.6em; margin: 0 0.25em; line-height: 1; border-radius: 0.35em;\">\n",
       "    bananas\n",
       "    <span style=\"font-size: 0.8em; font-weight: bold; line-height: 1; border-radius: 0.35em; vertical-align: middle; margin-left: 0.5rem\">FOOD</span>\n",
       "</mark>\n",
       " and \n",
       "<mark class=\"entity\" style=\"background: #ddd; padding: 0.45em 0.6em; margin: 0 0.25em; line-height: 1; border-radius: 0.35em;\">\n",
       "    chicken sandwich\n",
       "    <span style=\"font-size: 0.8em; font-weight: bold; line-height: 1; border-radius: 0.35em; vertical-align: middle; margin-left: 0.5rem\">FOOD</span>\n",
       "</mark>\n",
       "</div></span>"
      ],
      "text/plain": [
       "<IPython.core.display.HTML object>"
      ]
     },
     "metadata": {},
     "output_type": "display_data"
    },
    {
     "name": "stdout",
     "output_type": "stream",
     "text": [
      "new loop index =  0\n",
      "FOOD FOOD\n",
      "0\n",
      "new loop index =  1\n",
      "FOOD CARDINAL\n",
      "1\n",
      "new loop index =  2\n",
      "CARDINAL FOOD\n",
      "adding 1 to skip\n",
      "3\n",
      "new loop index =  4\n",
      "FOOD FOOD\n",
      "4\n",
      "[['apple', 1], ['orange', 1], ['bananas', '20'], ['chicken sandwich', 1]]\n",
      "(apple, orange, twenty, bananas, chicken sandwich)\n"
     ]
    }
   ],
   "source": [
    "from spacy import load\n",
    "import numerizer\n",
    "\n",
    "# doc = nlp(\"I ate three cereal bar, half of an apple and a banana for breakfast and a ham sandwich for lunch and chicken and rice for dinner and 3 chicken thighs and chicken\")\n",
    "\n",
    "doc = nlp(\"i ate an apple,orange, twenty bananas and chicken sandwich\")\n",
    "\n",
    "displacy.render(doc,style=\"ent\",jupyter=True)\n",
    "arr = []\n",
    "\n",
    "#if the ent list is larger than 1 then we can do the \n",
    "if len(doc.ents) == 1 and doc.ents[0].label_ == 'FOOD':\n",
    "    arr.append([doc.ents[0].text , 1])\n",
    "else:\n",
    "    createList(doc)\n",
    "\n",
    "\n",
    "print(arr)\n",
    "print(doc.ents)\n",
    "\n"
   ]
  }
 ],
 "metadata": {
  "kernelspec": {
   "display_name": "Python 3.9.12 ('Dissertation')",
   "language": "python",
   "name": "python3"
  },
  "language_info": {
   "codemirror_mode": {
    "name": "ipython",
    "version": 3
   },
   "file_extension": ".py",
   "mimetype": "text/x-python",
   "name": "python",
   "nbconvert_exporter": "python",
   "pygments_lexer": "ipython3",
   "version": "3.9.12"
  },
  "orig_nbformat": 4,
  "vscode": {
   "interpreter": {
    "hash": "cfaa2cf71bbb0cd3a6e7c0decce0446701dc5c1f7cb333de3955e94284571c19"
   }
  }
 },
 "nbformat": 4,
 "nbformat_minor": 2
}
