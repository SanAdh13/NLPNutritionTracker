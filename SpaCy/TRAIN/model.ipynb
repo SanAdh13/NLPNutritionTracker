{
 "cells": [
  {
   "cell_type": "markdown",
   "metadata": {},
   "source": [
    "This notebook will create the config file and the ner model for the food\n",
    "we will add this model pipeline with existing spacy pipeline in order to make a final model which should theoretically be able to identify\n",
    "the food items and the amounts correctly"
   ]
  },
  {
   "cell_type": "markdown",
   "metadata": {},
   "source": [
    "python -m spacy init fill-config base_config.cfg config.cfg"
   ]
  },
  {
   "cell_type": "markdown",
   "metadata": {},
   "source": [
    "python -m spacy train SpaCy/TRAIN/config.cfg --output SpaCy/model/  --paths.train datasets/spacyFiles/usdaTrain.spacy --paths.dev datasets/spacyFIles/usdaTrain.spacy --gpu-id 0\n"
   ]
  },
  {
   "cell_type": "code",
   "execution_count": 18,
   "metadata": {},
   "outputs": [
    {
     "data": {
      "text/plain": [
       "<spacy.pipeline.ner.EntityRecognizer at 0x2b17f454eb0>"
      ]
     },
     "execution_count": 18,
     "metadata": {},
     "output_type": "execute_result"
    }
   ],
   "source": [
    "import spacy\n",
    "nlp = spacy.load(\"en_core_web_sm\")\n",
    "food_nlp = spacy.load(\"C:\\\\Users\\\\samad\\\\Documents\\\\DISSERTATION\\\\SpaCy\\\\model\\\\model-best\")\n",
    "food_nlp.replace_listeners(\"tok2vec\", \"ner\", [\"model.tok2vec\"])\n",
    "\n",
    "nlp.add_pipe(\n",
    "    \"ner\",\n",
    "    name=\"ner_food\",\n",
    "    source=food_nlp,\n",
    "    after=\"ner\",\n",
    ")\n"
   ]
  },
  {
   "cell_type": "code",
   "execution_count": 21,
   "metadata": {},
   "outputs": [
    {
     "name": "stdout",
     "output_type": "stream",
     "text": [
      "Mannnn PERSON\n",
      "who the hell is eating hotdogs FOOD\n",
      "6 in the morning TIME\n",
      "Donald Trump PERSON\n",
      "is threatning FOOD\n",
      "iraq GPE\n",
      "on twitter FOOD\n",
      "its kinda crazy\n",
      "beans FOOD\n",
      "greens FOOD\n",
      "tomatoes FOOD\n",
      "potatoes FOOD\n",
      "rice FOOD\n",
      "horse FOOD\n",
      "chicken. FOOD\n",
      "Jeff PERSON\n",
      "bezos decided to leave earth FOOD\n",
      "live in mars i guess. FOOD\n",
      "42 CARDINAL\n",
      "12 acres QUANTITY\n",
      "everything inbetween. FOOD\n"
     ]
    }
   ],
   "source": [
    "doc = nlp('''Mannnn who the hell is eating hotdogs at 6 in the morning. \n",
    "Donald Trump is threatning iraq on twitter, its kinda crazy\n",
    "beans, greens, tomatoes, potatoes, rice, horse, chicken.\n",
    "Jeff bezos decided to leave earth and live in mars i guess. \n",
    "I need 42 mules, 12 acres and everything inbetween.\n",
    "''')\n",
    "\n",
    "for ent in doc.ents:\n",
    "  print(ent.text,ent.label_)\n"
   ]
  }
 ],
 "metadata": {
  "kernelspec": {
   "display_name": "Python 3.9.12 ('Dissertation')",
   "language": "python",
   "name": "python3"
  },
  "language_info": {
   "codemirror_mode": {
    "name": "ipython",
    "version": 3
   },
   "file_extension": ".py",
   "mimetype": "text/x-python",
   "name": "python",
   "nbconvert_exporter": "python",
   "pygments_lexer": "ipython3",
   "version": "3.9.12"
  },
  "orig_nbformat": 4,
  "vscode": {
   "interpreter": {
    "hash": "cfaa2cf71bbb0cd3a6e7c0decce0446701dc5c1f7cb333de3955e94284571c19"
   }
  }
 },
 "nbformat": 4,
 "nbformat_minor": 2
}
