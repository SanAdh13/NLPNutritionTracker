{
 "cells": [
  {
   "cell_type": "markdown",
   "metadata": {},
   "source": [
    "This notebook will create the config file and the ner model for the food\n",
    "we will add this model pipeline with existing spacy pipeline in order to make a final model which should theoretically be able to identify\n",
    "the food items and the amounts correctly"
   ]
  },
  {
   "cell_type": "markdown",
   "metadata": {},
   "source": [
    "python -m spacy init fill-config base_config.cfg config.cfg"
   ]
  },
  {
   "cell_type": "markdown",
   "metadata": {},
   "source": [
    "python -m spacy train SpaCy/TRAIN/configGPU.cfg --output SpaCy/model/  --paths.train datasets/spacyFiles/TrainData.spacy --paths.dev datasets/spacyFIles/Dev.spacy --gpu-id 0\n"
   ]
  },
  {
   "cell_type": "markdown",
   "metadata": {},
   "source": [
    "python -m spacy evaluate Spacy/model [test.spacy path] --output training/metrics.json"
   ]
  },
  {
   "cell_type": "code",
   "execution_count": null,
   "metadata": {},
   "outputs": [],
   "source": [
    "import spacy\n",
    "from spacy.cli.train import train\n",
    "from spacy.cli.evaluate import evaluate\n",
    "spacy.prefer_gpu()"
   ]
  },
  {
   "cell_type": "code",
   "execution_count": 8,
   "metadata": {},
   "outputs": [
    {
     "name": "stdout",
     "output_type": "stream",
     "text": [
      "ℹ Saving to output directory: ..\\..\\SpaCy\\model\n",
      "ℹ Using GPU: 0\n",
      "\u001b[1m\n",
      "=========================== Initializing pipeline ===========================\u001b[0m\n"
     ]
    },
    {
     "name": "stderr",
     "output_type": "stream",
     "text": [
      "Some weights of the model checkpoint at roberta-base were not used when initializing RobertaModel: ['lm_head.layer_norm.bias', 'lm_head.decoder.weight', 'lm_head.dense.weight', 'lm_head.bias', 'lm_head.dense.bias', 'lm_head.layer_norm.weight']\n",
      "- This IS expected if you are initializing RobertaModel from the checkpoint of a model trained on another task or with another architecture (e.g. initializing a BertForSequenceClassification model from a BertForPreTraining model).\n",
      "- This IS NOT expected if you are initializing RobertaModel from the checkpoint of a model that you expect to be exactly identical (initializing a BertForSequenceClassification model from a BertForSequenceClassification model).\n"
     ]
    },
    {
     "name": "stdout",
     "output_type": "stream",
     "text": [
      "✔ Initialized pipeline\n",
      "\u001b[1m\n",
      "============================= Training pipeline =============================\u001b[0m\n",
      "ℹ Pipeline: ['transformer', 'ner']\n",
      "ℹ Initial learn rate: 0.0\n",
      "E    #       LOSS TRANS...  LOSS NER  ENTS_F  ENTS_P  ENTS_R  SCORE \n",
      "---  ------  -------------  --------  ------  ------  ------  ------\n",
      "  0       0        6485.89    322.09    0.00    0.00    0.00    0.00\n",
      " 10     200      403244.54  44097.14   85.19   84.49   85.89    0.85\n",
      " 20     400         896.68   2805.70   88.09   90.39   85.89    0.88\n",
      " 31     600         181.80   1751.54   89.96   87.16   92.95    0.90\n",
      " 41     800          99.68   1612.42   88.75   87.50   90.04    0.89\n",
      " 51    1000          69.04   1502.32   88.10   88.66   87.55    0.88\n",
      " 61    1200          54.48   1458.46   87.10   84.71   89.63    0.87\n",
      " 71    1400          23.38   1413.51   89.16   87.90   90.46    0.89\n",
      " 82    1600          34.05   1375.05   88.80   85.71   92.12    0.89\n",
      " 92    1800          40.02   1370.63   88.75   87.50   90.04    0.89\n",
      "102    2000          39.19   1364.10   87.90   85.49   90.46    0.88\n",
      "113    2200          44.90   1322.88   88.24   89.36   87.14    0.88\n",
      "✔ Saved pipeline to output directory\n",
      "..\\..\\SpaCy\\model\\model-last\n"
     ]
    }
   ],
   "source": [
    "train(\"./configGPU.cfg\",output_path=\"../../SpaCy/model/\",use_gpu= 0 , overrides={\"paths.train\": \"../../datasets/spacyFiles/Train.spacy\", \"paths.dev\": \"../../datasets/spacyFiles/Dev.spacy\" })"
   ]
  },
  {
   "cell_type": "code",
   "execution_count": 9,
   "metadata": {},
   "outputs": [
    {
     "data": {
      "text/plain": [
       "{'token_acc': 1.0,\n",
       " 'token_p': 1.0,\n",
       " 'token_r': 1.0,\n",
       " 'token_f': 1.0,\n",
       " 'ents_p': 0.8844621513944223,\n",
       " 'ents_r': 0.9367088607594937,\n",
       " 'ents_f': 0.9098360655737705,\n",
       " 'ents_per_type': {'FOOD': {'p': 0.8844621513944223,\n",
       "   'r': 0.9367088607594937,\n",
       "   'f': 0.9098360655737705}},\n",
       " 'speed': 9472.163678999987}"
      ]
     },
     "execution_count": 9,
     "metadata": {},
     "output_type": "execute_result"
    }
   ],
   "source": [
    "# this will just evaluate the model with only the FOOD ent ... i think\n",
    "evaluate(\"../../SpaCy/model/model-best/\", \"../../datasets/spacyFiles/Test.spacy\",\"../../SpaCy/model/evaluationResult/metrics.json\")"
   ]
  },
  {
   "cell_type": "code",
   "execution_count": 10,
   "metadata": {},
   "outputs": [],
   "source": [
    "# https://spacy.io/api/language#replace_listeners\n",
    "nlp = spacy.load(\"en_core_web_trf\",disable=[\"tagger\",\"parser\", \"attribute_ruler\", \"lemmatizer\"])  #The TRF model has a ner accuracy of 0.898 \n",
    "food_nlp = spacy.load(\"C:\\\\Users\\\\samad\\\\Documents\\\\DISSERTATION\\\\SpaCy\\\\model\\\\model-best\")\n",
    "food_nlp.replace_listeners(\"transformer\", \"ner\", [\"model.tok2vec\"])\n",
    "\n",
    "nlp.add_pipe(\n",
    "    \"ner\",\n",
    "    name=\"ner_food\",\n",
    "    source=food_nlp,\n",
    "    after=\"ner\",\n",
    ")\n",
    "\n",
    "nlp.to_disk(\"../model/combined/\")"
   ]
  },
  {
   "cell_type": "markdown",
   "metadata": {},
   "source": [
    "The containers below were using for testing purposes : IGNORE\n"
   ]
  },
  {
   "cell_type": "markdown",
   "metadata": {},
   "source": [
    "\n",
    "    cant change the token in a span so we just gonna convert it and save to array\n",
    "    so a cardinal if its like \"THREE\" use numerizer() to get numerical val and use that instead\n",
    "\n",
    "    so that the ents list is only cardinal and FOOD\n",
    "    and say \n",
    "    if the item that we picked is a cardinal\n",
    "        if the next ents is food then we use numerize on the cardinal\n",
    "         [FOOD, cardinal._.numerize()]\n",
    "    if the item picked is FOOD and next is also FOOD\n",
    "        [FOOD,1]\n",
    "\n",
    "    #if we are in a number and the next is food\n",
    "    #logically thinking the number is quantity for the food \n",
    "    # while this is usual case, ofc this code can be rendered useless easily\n",
    "    # because someone can say \"i ate chicken wings, 20 of them\"\n",
    "    # and now this code will not work 😕\n",
    "    \n",
    "    #maybe skipping the next ent if the current is cardinal\n",
    "    # eg cardinal food food food cardinal food\n",
    "    # i = 0 we are at cardinal and next is food so we save [food,numerizedcardinal], then i+= 1 and also the i+=1 at the end of the while funct\n",
    "    # i = 2 its food  so just i+=1\n",
    "    # i = 3 its food again so just i+=1\n",
    "    # i = 4 its cardinal and next food "
   ]
  },
  {
   "cell_type": "code",
   "execution_count": 12,
   "metadata": {},
   "outputs": [],
   "source": [
    "\n",
    "# def createList(doc,arr):\n",
    "#     i = 0 \n",
    "#     lenEnts = len(doc.ents)\n",
    "#     while i < lenEnts:\n",
    "#         currEnt = doc.ents[i] # the current ent \n",
    "#         print(i , currEnt.label_)\n",
    "#         try: \n",
    "#             nextEnt = doc.ents[i+1] # the next ent in order to check\n",
    "#             print(i,nextEnt.label_)\n",
    "#             if currEnt.label_ == \"CARDINAL\" and nextEnt.label_ == \"FOOD\":\n",
    "#                 i+=1\n",
    "#                 arr.append([nextEnt.text,currEnt._.numerize()])\n",
    "#             else:\n",
    "#                 if (currEnt.label_ == \"FOOD\"): \n",
    "#                     arr.append([currEnt.text,1])\n",
    "#         except: \n",
    "#             # print(\"no next ent at\"+str(i))\n",
    "#             if(currEnt.label_ == \"FOOD\"):\n",
    "#                 arr.append([currEnt.text,1])\n",
    "#             pass\n",
    "#         i+=1\n",
    "#     return arr"
   ]
  },
  {
   "cell_type": "code",
   "execution_count": 13,
   "metadata": {},
   "outputs": [
    {
     "data": {
      "text/html": [
       "<span class=\"tex2jax_ignore\"><div class=\"entities\" style=\"line-height: 2.5; direction: ltr\">I ate \n",
       "<mark class=\"entity\" style=\"background: #e4e7d2; padding: 0.45em 0.6em; margin: 0 0.25em; line-height: 1; border-radius: 0.35em;\">\n",
       "    three\n",
       "    <span style=\"font-size: 0.8em; font-weight: bold; line-height: 1; border-radius: 0.35em; vertical-align: middle; margin-left: 0.5rem\">CARDINAL</span>\n",
       "</mark>\n",
       " \n",
       "<mark class=\"entity\" style=\"background: #ddd; padding: 0.45em 0.6em; margin: 0 0.25em; line-height: 1; border-radius: 0.35em;\">\n",
       "    cereal bar\n",
       "    <span style=\"font-size: 0.8em; font-weight: bold; line-height: 1; border-radius: 0.35em; vertical-align: middle; margin-left: 0.5rem\">FOOD</span>\n",
       "</mark>\n",
       ", \n",
       "<mark class=\"entity\" style=\"background: #e4e7d2; padding: 0.45em 0.6em; margin: 0 0.25em; line-height: 1; border-radius: 0.35em;\">\n",
       "    half\n",
       "    <span style=\"font-size: 0.8em; font-weight: bold; line-height: 1; border-radius: 0.35em; vertical-align: middle; margin-left: 0.5rem\">CARDINAL</span>\n",
       "</mark>\n",
       " of an \n",
       "<mark class=\"entity\" style=\"background: #ddd; padding: 0.45em 0.6em; margin: 0 0.25em; line-height: 1; border-radius: 0.35em;\">\n",
       "    apple\n",
       "    <span style=\"font-size: 0.8em; font-weight: bold; line-height: 1; border-radius: 0.35em; vertical-align: middle; margin-left: 0.5rem\">FOOD</span>\n",
       "</mark>\n",
       " and a \n",
       "<mark class=\"entity\" style=\"background: #ddd; padding: 0.45em 0.6em; margin: 0 0.25em; line-height: 1; border-radius: 0.35em;\">\n",
       "    banana\n",
       "    <span style=\"font-size: 0.8em; font-weight: bold; line-height: 1; border-radius: 0.35em; vertical-align: middle; margin-left: 0.5rem\">FOOD</span>\n",
       "</mark>\n",
       " for breakfast and a \n",
       "<mark class=\"entity\" style=\"background: #ddd; padding: 0.45em 0.6em; margin: 0 0.25em; line-height: 1; border-radius: 0.35em;\">\n",
       "    ham sandwich\n",
       "    <span style=\"font-size: 0.8em; font-weight: bold; line-height: 1; border-radius: 0.35em; vertical-align: middle; margin-left: 0.5rem\">FOOD</span>\n",
       "</mark>\n",
       " for lunch and \n",
       "<mark class=\"entity\" style=\"background: #ddd; padding: 0.45em 0.6em; margin: 0 0.25em; line-height: 1; border-radius: 0.35em;\">\n",
       "    chicken and rice\n",
       "    <span style=\"font-size: 0.8em; font-weight: bold; line-height: 1; border-radius: 0.35em; vertical-align: middle; margin-left: 0.5rem\">FOOD</span>\n",
       "</mark>\n",
       " for dinner and \n",
       "<mark class=\"entity\" style=\"background: #e4e7d2; padding: 0.45em 0.6em; margin: 0 0.25em; line-height: 1; border-radius: 0.35em;\">\n",
       "    3\n",
       "    <span style=\"font-size: 0.8em; font-weight: bold; line-height: 1; border-radius: 0.35em; vertical-align: middle; margin-left: 0.5rem\">CARDINAL</span>\n",
       "</mark>\n",
       " \n",
       "<mark class=\"entity\" style=\"background: #ddd; padding: 0.45em 0.6em; margin: 0 0.25em; line-height: 1; border-radius: 0.35em;\">\n",
       "    chicken thighs\n",
       "    <span style=\"font-size: 0.8em; font-weight: bold; line-height: 1; border-radius: 0.35em; vertical-align: middle; margin-left: 0.5rem\">FOOD</span>\n",
       "</mark>\n",
       " and \n",
       "<mark class=\"entity\" style=\"background: #ddd; padding: 0.45em 0.6em; margin: 0 0.25em; line-height: 1; border-radius: 0.35em;\">\n",
       "    chicken\n",
       "    <span style=\"font-size: 0.8em; font-weight: bold; line-height: 1; border-radius: 0.35em; vertical-align: middle; margin-left: 0.5rem\">FOOD</span>\n",
       "</mark>\n",
       "</div></span>"
      ],
      "text/plain": [
       "<IPython.core.display.HTML object>"
      ]
     },
     "metadata": {},
     "output_type": "display_data"
    },
    {
     "name": "stdout",
     "output_type": "stream",
     "text": [
      "0 CARDINAL\n",
      "0 FOOD\n",
      "2 CARDINAL\n",
      "2 FOOD\n",
      "4 FOOD\n",
      "4 FOOD\n",
      "5 FOOD\n",
      "5 FOOD\n",
      "6 FOOD\n",
      "6 CARDINAL\n",
      "7 CARDINAL\n",
      "7 FOOD\n",
      "9 FOOD\n",
      "[['cereal bar', '3'], ['apple', '1/2'], ['banana', 1], ['ham sandwich', 1], ['chicken and rice', 1], ['chicken thighs', '3'], ['chicken', 1]]\n",
      "(three, cereal bar, half, apple, banana, ham sandwich, chicken and rice, 3, chicken thighs, chicken)\n"
     ]
    }
   ],
   "source": [
    "# from spacy import load,displacy\n",
    "# import numerizer\n",
    "# nlp = spacy.load(\"./../model/combined/\")\n",
    "# doc = nlp(\"I ate three cereal bar, half of an apple and a banana for breakfast and a ham sandwich for lunch and chicken and rice for dinner and 3 chicken thighs and chicken\")\n",
    "\n",
    "# # doc = nlp(\"800 grams of Locatelli's  ribeye steak\")\n",
    "\n",
    "# displacy.render(doc,style=\"ent\",jupyter=True)\n",
    "# arr = []\n",
    "\n",
    "# #if the ent list is larger than 1 then we can do the \n",
    "# if len(doc.ents) == 1 and doc.ents[0].label_ == 'FOOD':\n",
    "#     arr.append([doc.ents[0].text , 1])\n",
    "# else:\n",
    "#     arr = createList(doc,arr)\n",
    "\n",
    "# print(arr)\n",
    "# print(doc.ents)\n",
    "\n"
   ]
  },
  {
   "cell_type": "code",
   "execution_count": null,
   "metadata": {},
   "outputs": [],
   "source": [
    "# from itertools import *\n",
    "\n",
    "# doc = nlp(\"I ate three cereal bar, half of an apple and 500 g of ribeye steak and a ham sandwich for lunch and chicken and rice for dinner and 3 chicken thighs and chicken\")\n",
    "# # e = {key:list(g) for key, g in groupby(doc.ents,lambda x:x.label_)}\n",
    "\n",
    "# displacy.render(doc,style=\"ent\",jupyter=True)\n",
    "# entities = {key: list(g) for key, g in groupby(sorted(doc.ents, key=lambda x: x.label_), lambda x: x.label_)} \n",
    "\n",
    "# print(entities)"
   ]
  }
 ],
 "metadata": {
  "kernelspec": {
   "display_name": "Python 3.9.12 ('Dissertation')",
   "language": "python",
   "name": "python3"
  },
  "language_info": {
   "codemirror_mode": {
    "name": "ipython",
    "version": 3
   },
   "file_extension": ".py",
   "mimetype": "text/x-python",
   "name": "python",
   "nbconvert_exporter": "python",
   "pygments_lexer": "ipython3",
   "version": "3.9.12"
  },
  "orig_nbformat": 4,
  "vscode": {
   "interpreter": {
    "hash": "cfaa2cf71bbb0cd3a6e7c0decce0446701dc5c1f7cb333de3955e94284571c19"
   }
  }
 },
 "nbformat": 4,
 "nbformat_minor": 2
}
