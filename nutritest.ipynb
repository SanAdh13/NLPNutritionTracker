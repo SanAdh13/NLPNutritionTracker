{
 "cells": [
  {
   "cell_type": "code",
   "execution_count": null,
   "metadata": {},
   "outputs": [],
   "source": [
    "from ast import literal_eval\n",
    "import pandas as pd\n",
    "import numpy as np\n",
    "loc = \"datasets\\\\nutrition.xlsx\"\n",
    "df = pd.read_excel(loc,sheet_name=\"1.3 Proximates\" )\n",
    "columns = ['Food Name','Water (g)','Total nitrogen (g)','Protein (g)', 'Fat (g)','Carbohydrate (g)', 'Energy (kcal) (kcal)','Total sugars (g)','Alcohol (g)','AOAC fibre (g)']\n",
    "\n",
    "df['Food Name'] = df['Food Name'].str.lower()\n",
    "#this will be all the food items\n",
    "df = df[columns][3:]\n",
    "\n",
    "#replace trace values and none values with 0\n",
    "df = df.replace(to_replace='Tr',value=0)\n",
    "df = df.replace(to_replace='N',value=0)\n",
    "df = df.fillna(0)\n",
    "df = df.reset_index(drop=True)"
   ]
  },
  {
   "cell_type": "code",
   "execution_count": null,
   "metadata": {},
   "outputs": [],
   "source": [
    "import sqlite3\n",
    "\n",
    "conn = sqlite3.connect('project.db')\n",
    "try:\n",
    "    pd.read_sql('drop table nutrition',conn)\n",
    "except:\n",
    "    df.to_sql('nutrition',conn)\n"
   ]
  },
  {
   "cell_type": "code",
   "execution_count": null,
   "metadata": {},
   "outputs": [],
   "source": [
    "# food = 'hamburger'.lower().split()\n",
    "# print(food)\n",
    "\n",
    "# query = \"select * from nutrition where \"\n",
    "\n",
    "# if len(food) == 1:\n",
    "#     query+= '\"Food Name\" like \"%'+food[0] + '%\"'\n",
    "# else: \n",
    "#     for i in range(len(food)):\n",
    "#         if(i != len(food)-1):\n",
    "#             query+= '\"Food Name\" like \"%'+food[i] +'%\" and '\n",
    "#         else:\n",
    "#             query+= '\"Food Name\" like \"%'+food[i]+'%\"'\n",
    "\n",
    "\n",
    "# print(query)\n",
    "# pd.read_sql(query,conn)"
   ]
  }
 ],
 "metadata": {
  "kernelspec": {
   "display_name": "Python 3.9.12 ('Dissertation')",
   "language": "python",
   "name": "python3"
  },
  "language_info": {
   "codemirror_mode": {
    "name": "ipython",
    "version": 3
   },
   "file_extension": ".py",
   "mimetype": "text/x-python",
   "name": "python",
   "nbconvert_exporter": "python",
   "pygments_lexer": "ipython3",
   "version": "3.9.12"
  },
  "orig_nbformat": 4,
  "vscode": {
   "interpreter": {
    "hash": "cfaa2cf71bbb0cd3a6e7c0decce0446701dc5c1f7cb333de3955e94284571c19"
   }
  }
 },
 "nbformat": 4,
 "nbformat_minor": 2
}
